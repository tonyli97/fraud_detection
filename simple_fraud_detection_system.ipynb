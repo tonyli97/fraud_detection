{
 "cells": [
  {
   "cell_type": "code",
   "execution_count": 2,
   "metadata": {},
   "outputs": [
    {
     "data": {
      "text/plain": [
       "Index(['Time', 'V1', 'V2', 'V3', 'V4', 'V5', 'V6', 'V7', 'V8', 'V9', 'V10',\n",
       "       'V11', 'V12', 'V13', 'V14', 'V15', 'V16', 'V17', 'V18', 'V19', 'V20',\n",
       "       'V21', 'V22', 'V23', 'V24', 'V25', 'V26', 'V27', 'V28', 'Amount',\n",
       "       'Class'],\n",
       "      dtype='object')"
      ]
     },
     "execution_count": 2,
     "metadata": {},
     "output_type": "execute_result"
    }
   ],
   "source": [
    "import pandas as pd\n",
    "import numpy as np\n",
    "# import data\n",
    "df = pd.read_csv(\"creditcard.csv\")\n",
    "# view the column names\n",
    "df.columns"
   ]
  },
  {
   "cell_type": "code",
   "execution_count": 3,
   "metadata": {},
   "outputs": [],
   "source": [
    "frauds = len(df[df.Class == 1])\n",
    "nonfrauds = len(df[df.Class == 0])"
   ]
  },
  {
   "cell_type": "code",
   "execution_count": 4,
   "metadata": {},
   "outputs": [
    {
     "name": "stdout",
     "output_type": "stream",
     "text": [
      "Frauds 492\n",
      "Non-frauds 284315\n"
     ]
    }
   ],
   "source": [
    "print(\"Frauds\", frauds); print(\"Non-frauds\", nonfrauds)\n",
    "## scaling the \"Amount\" and \"Time\" columns similar to the others variables\n",
    "from sklearn.preprocessing import RobustScaler\n",
    "rob_scaler = RobustScaler()\n",
    "df['scaled_amount'] = rob_scaler.fit_transform(df['Amount'].values.reshape(-1,1))\n",
    "df['scaled_time'] = rob_scaler.fit_transform(df['Time'].values.reshape(-1,1))\n",
    "# now drop the original columns\n",
    "df.drop(['Time','Amount'], axis=1, inplace=True)\n",
    "# define X and y variables\n",
    "X = df.loc[:, df.columns != 'Class']\n",
    "y = df.loc[:, df.columns == 'Class']"
   ]
  },
  {
   "cell_type": "code",
   "execution_count": 5,
   "metadata": {},
   "outputs": [],
   "source": [
    "# number of fraud cases\n",
    "frauds = len(df[df.Class == 1])\n",
    "# selecting the indices of the non-fraud classes\n",
    "fraud_indices = df[df.Class == 1].index\n",
    "nonfraud_indices = df[df.Class == 0].index\n",
    "# From all non-fraud observations, randomly select observations equal to number of fraud observations\n",
    "random_nonfraud_indices = np.random.choice(nonfraud_indices, frauds, replace = False)\n",
    "random_nonfraud_indices = np.array(random_nonfraud_indices)\n",
    "# Appending the 2 indices\n",
    "under_sample_indices = np.concatenate([fraud_indices,random_nonfraud_indices])\n",
    "# Under sample dataset\n",
    "under_sample_data = df.iloc[under_sample_indices,:]\n",
    "# Now split X, y variables from the under sample data\n",
    "X_undersample = under_sample_data.loc[:, under_sample_data.columns != 'Class']\n",
    "y_undersample = under_sample_data.loc[:, under_sample_data.columns == 'Class']"
   ]
  },
  {
   "cell_type": "code",
   "execution_count": 6,
   "metadata": {},
   "outputs": [
    {
     "name": "stderr",
     "output_type": "stream",
     "text": [
      "/Users/qiranli/anaconda3/lib/python3.8/site-packages/sklearn/utils/validation.py:73: DataConversionWarning: A column-vector y was passed when a 1d array was expected. Please change the shape of y to (n_samples, ), for example using ravel().\n",
      "  return f(**kwargs)\n"
     ]
    }
   ],
   "source": [
    "## split data into training and testing set\n",
    "from sklearn.model_selection import train_test_split\n",
    "# # The complete dataset\n",
    "# X_train, X_test, y_train, y_test = train_test_split(X,y,test_size = 0.3, random_state = 0)\n",
    "# Split dataset\n",
    "X_train_undersample, X_test_undersample, y_train_undersample, y_test_undersample = train_test_split(X_undersample,y_undersample                                                                                                                                                                                                                                                                                             ,random_state = 0)\n",
    "## modeling with logistic regression\n",
    "#import model\n",
    "from sklearn.linear_model import LogisticRegression\n",
    "# instantiate model\n",
    "model = LogisticRegression()\n",
    "# fit \n",
    "model.fit(X_train_undersample, y_train_undersample)\n",
    "# predict\n",
    "y_pred = model.predict(X_test_undersample)"
   ]
  },
  {
   "cell_type": "code",
   "execution_count": 7,
   "metadata": {},
   "outputs": [
    {
     "name": "stdout",
     "output_type": "stream",
     "text": [
      "CLASSIFICATION REPORT\n",
      "              precision    recall  f1-score   support\n",
      "\n",
      "           0       0.95      0.97      0.96       127\n",
      "           1       0.97      0.94      0.95       119\n",
      "\n",
      "    accuracy                           0.96       246\n",
      "   macro avg       0.96      0.95      0.96       246\n",
      "weighted avg       0.96      0.96      0.96       246\n",
      "\n",
      "CONFUSION MATRIX\n",
      "[[123   4]\n",
      " [  7 112]]\n"
     ]
    }
   ],
   "source": [
    "# import classification report and confusion matrix\n",
    "from sklearn.metrics import classification_report\n",
    "from sklearn.metrics import confusion_matrix\n",
    "classification_report = classification_report(y_test_undersample, y_pred)\n",
    "confusion_matrix = confusion_matrix(y_test_undersample, y_pred)\n",
    "print(\"CLASSIFICATION REPORT\")\n",
    "print(classification_report)\n",
    "print(\"CONFUSION MATRIX\") \n",
    "print(confusion_matrix)"
   ]
  },
  {
   "cell_type": "code",
   "execution_count": null,
   "metadata": {},
   "outputs": [],
   "source": []
  }
 ],
 "metadata": {
  "kernelspec": {
   "display_name": "Python 3",
   "language": "python",
   "name": "python3"
  },
  "language_info": {
   "codemirror_mode": {
    "name": "ipython",
    "version": 3
   },
   "file_extension": ".py",
   "mimetype": "text/x-python",
   "name": "python",
   "nbconvert_exporter": "python",
   "pygments_lexer": "ipython3",
   "version": "3.8.3"
  }
 },
 "nbformat": 4,
 "nbformat_minor": 4
}
